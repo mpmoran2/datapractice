{
 "cells": [
  {
   "cell_type": "code",
   "execution_count": 5,
   "metadata": {},
   "outputs": [
    {
     "data": {
      "text/plain": [
       "200"
      ]
     },
     "execution_count": 5,
     "metadata": {},
     "output_type": "execute_result"
    }
   ],
   "source": [
    "from pandas import Series\r\n",
    "\r\n",
    "se = Series([1,3,5,7,9])\r\n",
    "se\r\n",
    "se[2]\r\n",
    "\r\n",
    "se2 = Series([100,200,300], index=['a', 'b', 'c'])\r\n",
    "se2\r\n",
    "se2['b']"
   ]
  }
 ],
 "metadata": {
  "interpreter": {
   "hash": "103c0dd33664c468366dcccf8315ad41c6bc5d2ebbfb42077f990e4438d21ff1"
  },
  "kernelspec": {
   "display_name": "Python 3.8.8 64-bit ('base': conda)",
   "name": "python3"
  },
  "language_info": {
   "codemirror_mode": {
    "name": "ipython",
    "version": 3
   },
   "file_extension": ".py",
   "mimetype": "text/x-python",
   "name": "python",
   "nbconvert_exporter": "python",
   "pygments_lexer": "ipython3",
   "version": "3.8.8"
  },
  "orig_nbformat": 4
 },
 "nbformat": 4,
 "nbformat_minor": 2
}